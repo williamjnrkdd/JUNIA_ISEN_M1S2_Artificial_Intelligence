{
 "cells": [
  {
   "cell_type": "code",
   "execution_count": null,
   "id": "8f923c95",
   "metadata": {},
   "outputs": [],
   "source": [
    "from sklearn.datasets import load_iris\n",
    "from sklearn.tree import DecisionTreeClassifier\n",
    "from sklearn.tree import export_text\n",
    "from sklearn.tree import plot_tree\n",
    "import matplotlib.pyplot as plt\n",
    "import seaborn as sns\n",
    "import pandas as pd\n",
    "import numpy as np"
   ]
  },
  {
   "cell_type": "code",
   "execution_count": null,
   "id": "c4351cbb",
   "metadata": {},
   "outputs": [],
   "source": [
    "iris = load_iris()\n",
    "\n",
    "X = iris.data    # The inputs\n",
    "y = iris.target  # The wanted output\n",
    "\n",
    "df = pd.DataFrame(X,columns=iris.feature_names)\n",
    "df['Label']=y\n",
    "df['Species']=df['Label'].map({0: 'setosa', 1: 'versicolor', 2: 'virginica'})\n",
    "df = df.drop(['Label'], axis=1)"
   ]
  },
  {
   "cell_type": "code",
   "execution_count": null,
   "id": "17f385a6",
   "metadata": {},
   "outputs": [],
   "source": [
    "df.head()   # The first five elements"
   ]
  },
  {
   "cell_type": "code",
   "execution_count": null,
   "id": "1e393870",
   "metadata": {},
   "outputs": [],
   "source": [
    "df.tail()  # the last five elements"
   ]
  },
  {
   "cell_type": "code",
   "execution_count": null,
   "id": "c1662d62",
   "metadata": {},
   "outputs": [],
   "source": [
    "df.describe()   # statistical and general information about the data"
   ]
  },
  {
   "cell_type": "code",
   "execution_count": null,
   "id": "566b120c",
   "metadata": {},
   "outputs": [],
   "source": [
    "sns.pairplot(df,  hue='Species')"
   ]
  },
  {
   "cell_type": "code",
   "execution_count": null,
   "id": "dfa5ccfc",
   "metadata": {},
   "outputs": [],
   "source": [
    "# Decision Tree Classifier Model\n",
    "model_tree = DecisionTreeClassifier()"
   ]
  },
  {
   "cell_type": "code",
   "execution_count": null,
   "id": "2224be5a",
   "metadata": {},
   "outputs": [],
   "source": [
    "# Training the model\n",
    "model_tree.fit(X, y)"
   ]
  },
  {
   "cell_type": "code",
   "execution_count": null,
   "id": "9f548347",
   "metadata": {},
   "outputs": [],
   "source": [
    "text_representation = export_text(model_tree, feature_names = iris['feature_names'])\n",
    "print(text_representation)"
   ]
  },
  {
   "cell_type": "code",
   "execution_count": null,
   "id": "462fcfbb",
   "metadata": {},
   "outputs": [],
   "source": [
    "fig = plt.figure(figsize=(25,20))\n",
    "_   = plot_tree(model_tree, \n",
    "                feature_names=iris['feature_names'],  \n",
    "                   class_names=['setosa', 'versicolor','virginica'],\n",
    "                   filled=True)"
   ]
  },
  {
   "cell_type": "code",
   "execution_count": null,
   "id": "cc67dcd2",
   "metadata": {},
   "outputs": [],
   "source": []
  }
 ],
 "metadata": {
  "kernelspec": {
   "display_name": "Python 3",
   "language": "python",
   "name": "python3"
  },
  "language_info": {
   "codemirror_mode": {
    "name": "ipython",
    "version": 3
   },
   "file_extension": ".py",
   "mimetype": "text/x-python",
   "name": "python",
   "nbconvert_exporter": "python",
   "pygments_lexer": "ipython3",
   "version": "3.8.8"
  }
 },
 "nbformat": 4,
 "nbformat_minor": 5
}
