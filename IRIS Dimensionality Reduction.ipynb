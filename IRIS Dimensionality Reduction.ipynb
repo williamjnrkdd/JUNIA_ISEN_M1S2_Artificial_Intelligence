{
 "cells": [
  {
   "cell_type": "code",
   "execution_count": null,
   "id": "8f923c95",
   "metadata": {},
   "outputs": [],
   "source": [
    "from sklearn.datasets import load_iris\n",
    "from sklearn.decomposition import PCA\n",
    "\n",
    "#from sklearn.tree import DecisionTreeClassifier\n",
    "#from sklearn.tree import export_text\n",
    "#from sklearn.tree import plot_tree\n",
    "\n",
    "from sklearn.decomposition import PCA\n",
    "\n",
    "import matplotlib.pyplot as plt\n",
    "import seaborn as sns\n",
    "import pandas as pd\n",
    "import numpy as np"
   ]
  },
  {
   "cell_type": "code",
   "execution_count": null,
   "id": "c4351cbb",
   "metadata": {},
   "outputs": [],
   "source": [
    "iris = load_iris()\n",
    "\n",
    "X = iris.data    # The inputs\n",
    "y = iris.target  # The wanted output\n",
    "\n",
    "df = pd.DataFrame(X,columns=iris.feature_names)\n",
    "df['Label']=y\n",
    "df['Species']=df['Label'].map({0: 'setosa', 1: 'versicolor', 2: 'virginica'})\n",
    "df = df.drop(['Label'], axis=1)"
   ]
  },
  {
   "cell_type": "code",
   "execution_count": null,
   "id": "17f385a6",
   "metadata": {},
   "outputs": [],
   "source": [
    "df.head()   # The first five elements"
   ]
  },
  {
   "cell_type": "code",
   "execution_count": null,
   "id": "1e393870",
   "metadata": {},
   "outputs": [],
   "source": [
    "df.tail()  # the last five elements"
   ]
  },
  {
   "cell_type": "code",
   "execution_count": null,
   "id": "c1662d62",
   "metadata": {
    "scrolled": true
   },
   "outputs": [],
   "source": [
    "df.describe()   # statistical and general information about the data"
   ]
  },
  {
   "cell_type": "code",
   "execution_count": null,
   "id": "4c983103",
   "metadata": {},
   "outputs": [],
   "source": [
    "sns.pairplot(df,  hue='Species')"
   ]
  },
  {
   "cell_type": "code",
   "execution_count": null,
   "id": "566b120c",
   "metadata": {},
   "outputs": [],
   "source": [
    "#Transform features\n",
    "pca = PCA()\n",
    "X_pca = pca.fit_transform(X)\n",
    "\n",
    "#Merge with df\n",
    "pca_df = pd.DataFrame(X_pca,columns=['PC1','PC2','PC3','PC4'])\n",
    "df = pd.merge(df, pca_df, right_index=True, left_index=True)"
   ]
  },
  {
   "cell_type": "code",
   "execution_count": null,
   "id": "dfa5ccfc",
   "metadata": {},
   "outputs": [],
   "source": [
    "# Explained Variance Ratio of principle components\n",
    "for i in range(4):\n",
    "    print('PC{}: {}'.format(i+1,pca.explained_variance_ratio_[i]))"
   ]
  },
  {
   "cell_type": "code",
   "execution_count": null,
   "id": "2224be5a",
   "metadata": {},
   "outputs": [],
   "source": [
    "sns.stripplot(x=\"PC1\", y=\"Species\", data=df,jitter=True)\n",
    "plt.title('Iris Data Visualized in One Dimension');"
   ]
  },
  {
   "cell_type": "code",
   "execution_count": null,
   "id": "9f548347",
   "metadata": {},
   "outputs": [],
   "source": [
    "sns.lmplot(x='PC1',y='PC2',data=df,hue='Species',fit_reg=False)\n",
    "plt.title('Iris Data Visualized in Two Dimensions');"
   ]
  },
  {
   "cell_type": "code",
   "execution_count": null,
   "id": "0ef39ca8",
   "metadata": {},
   "outputs": [],
   "source": []
  }
 ],
 "metadata": {
  "kernelspec": {
   "display_name": "Python 3 (ipykernel)",
   "language": "python",
   "name": "python3"
  },
  "language_info": {
   "codemirror_mode": {
    "name": "ipython",
    "version": 3
   },
   "file_extension": ".py",
   "mimetype": "text/x-python",
   "name": "python",
   "nbconvert_exporter": "python",
   "pygments_lexer": "ipython3",
   "version": "3.7.11"
  }
 },
 "nbformat": 4,
 "nbformat_minor": 5
}
