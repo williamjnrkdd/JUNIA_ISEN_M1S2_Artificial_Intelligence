{
 "cells": [
  {
   "cell_type": "code",
   "execution_count": 3,
   "id": "3935145e",
   "metadata": {},
   "outputs": [],
   "source": [
    "import numpy as np\n",
    "import matplotlib.pyplot as plt\n",
    "from sklearn import linear_model"
   ]
  },
  {
   "cell_type": "code",
   "execution_count": 4,
   "id": "219ae8cf",
   "metadata": {},
   "outputs": [],
   "source": [
    "f= open(\"mydata.csv\")"
   ]
  },
  {
   "cell_type": "code",
   "execution_count": 5,
   "id": "77504306",
   "metadata": {},
   "outputs": [],
   "source": [
    "data = np.loadtxt(f, delimiter=\";\")"
   ]
  },
  {
   "cell_type": "code",
   "execution_count": 6,
   "id": "935bd79e",
   "metadata": {},
   "outputs": [
    {
     "name": "stdout",
     "output_type": "stream",
     "text": [
      "[[ 84.359   59.8077]\n",
      " [ 72.8205  52.5   ]\n",
      " [ 96.4103  49.4231]\n",
      " [  7.1795  90.1923]\n",
      " [ 10.2564  80.9615]\n",
      " [  5.8974  14.8077]\n",
      " [ 76.4103  56.3462]\n",
      " [ 75.641   84.0385]\n",
      " [ 73.3333  49.4231]\n",
      " [ 21.5385  50.1923]\n",
      " [ 38.9744  32.8846]\n",
      " [ 18.9744  66.3462]\n",
      " [ 16.9231  74.4231]\n",
      " [ 85.3846  30.1923]\n",
      " [  9.2308  62.8846]\n",
      " [ 34.359   37.8846]\n",
      " [ 89.7436  74.4231]\n",
      " [ 10.5128  90.1923]\n",
      " [ 15.8974  94.8077]\n",
      " [ 80.2564  59.0385]\n",
      " [ 85.641   70.9615]\n",
      " [  7.4359  38.6538]\n",
      " [ 30.2564  81.7308]\n",
      " [ 76.4103  42.5   ]\n",
      " [  6.6667  80.1923]\n",
      " [ 19.4872  55.5769]\n",
      " [ 31.7949  40.5769]\n",
      " [ 93.3333  94.8077]\n",
      " [ 15.3846  78.2692]\n",
      " [ 73.0769  57.8846]\n",
      " [ 82.3077  69.4231]\n",
      " [ 13.0769  91.7308]\n",
      " [ 12.5641  75.9615]\n",
      " [ 55.8974  38.6538]\n",
      " [ 91.2821  70.9615]\n",
      " [ 34.8718  55.9615]\n",
      " [ 24.1026  55.5769]\n",
      " [ 11.7949  70.9615]\n",
      " [ 79.7436  77.8846]\n",
      " [ 68.7179  49.4231]\n",
      " [ 90.2564  80.1923]\n",
      " [ 12.8205  83.6538]\n",
      " [ 38.4615  36.7308]\n",
      " [ 16.4103  57.5   ]\n",
      " [ 87.4359  75.5769]\n",
      " [ 11.5385  51.7308]\n",
      " [ 98.4615  61.7308]\n",
      " [ 33.0769  90.9615]\n",
      " [ 26.4103  41.7308]\n",
      " [  5.641   75.5769]\n",
      " [  9.2308  83.6538]\n",
      " [ 91.2821  26.3462]\n",
      " [ 38.9744  41.7308]\n",
      " [ 83.8462  50.5769]\n",
      " [ 84.6154  67.1154]\n",
      " [ 68.7179  27.1154]\n",
      " [ 12.3077  80.1923]\n",
      " [ 28.7179  63.2692]\n",
      " [ 27.4359  52.8846]\n",
      " [ 75.8974  66.3462]\n",
      " [ 12.3077  87.1154]\n",
      " [ 89.7436  85.5769]\n",
      " [ 20.2564  73.6538]\n",
      " [ 18.9744  36.3462]\n",
      " [ 83.5897  97.8846]\n",
      " [ 50.7692   4.0385]\n",
      " [ 97.9487  94.0385]\n",
      " [ 22.8205  46.3462]\n",
      " [ 68.2051  41.3462]\n",
      " [ 16.9231  83.6538]\n",
      " [ 21.7949  64.0385]\n",
      " [ 30.7692  48.6538]\n",
      " [ 16.9231  70.1923]\n",
      " [ 54.8718  24.8077]\n",
      " [ 85.3846  83.2692]\n",
      " [ 78.2051  61.7308]\n",
      " [ 39.7436  28.6538]\n",
      " [ 92.3077  82.8846]\n",
      " [ 42.3077  22.1154]\n",
      " [ 78.2051  59.4231]\n",
      " [ 91.2821  78.2692]\n",
      " [ 20.      77.8846]\n",
      " [ 36.9231  27.8846]\n",
      " [ 74.359   69.4231]\n",
      " [ 67.6923  61.7308]\n",
      " [ 10.7692  76.7308]\n",
      " [ 84.1026  42.5   ]\n",
      " [ 75.8974  50.5769]\n",
      " [ 93.8462  75.5769]\n",
      " [ 73.8462  34.0385]\n",
      " [  7.1795  95.5769]\n",
      " [ 87.1795  59.0385]\n",
      " [ 60.5128  41.3462]\n",
      " [  3.5897 100.9615]\n",
      " [ 14.359   71.3462]\n",
      " [ 65.8974  43.2692]\n",
      " [ 70.      47.1154]\n",
      " [ 80.2564  56.3462]\n",
      " [ 24.8718  64.8077]\n",
      " [ 35.641   33.6538]\n",
      " [ 64.1026  37.8846]\n",
      " [ 60.7692  25.1923]\n",
      " [ 84.6154  74.4231]\n",
      " [ 17.6923  51.7308]\n",
      " [ 21.2821  57.5   ]\n",
      " [ 64.6154  54.4231]\n",
      " [ 30.5128  44.4231]\n",
      " [ 70.2564  43.2692]\n",
      " [ 27.1795  24.4231]\n",
      " [ 82.0513  65.9615]\n",
      " [ 26.4103  57.8846]\n",
      " [  8.4615  87.5   ]\n",
      " [ 52.0513  57.1154]\n",
      " [ 36.4103  38.2692]\n",
      " [ 22.3077  85.5769]\n",
      " [ 17.9487  61.3462]\n",
      " [ 44.8718  35.1923]\n",
      " [ 29.7436  36.3462]\n",
      " [ 27.6923  46.3462]\n",
      " [ 63.5897  34.8077]\n",
      " [ 67.4359  37.8846]\n",
      " [ 14.6154  65.5769]\n",
      " [ 72.8205  63.2692]\n",
      " [ 28.4615  69.8077]\n",
      " [ 66.6667  33.2692]\n",
      " [ 61.0256  32.5   ]\n",
      " [  4.8718  85.1923]\n",
      " [  4.6154  96.7308]\n",
      " [ 22.0513  68.6538]\n",
      " [ 78.4615  52.8846]\n",
      " [ 88.2051  89.4231]\n",
      " [ 32.8205  42.5   ]\n",
      " [ 97.6923  85.5769]\n",
      " [ 79.4872  67.1154]\n",
      " [ 87.9487  69.4231]\n",
      " [  2.5641  91.7308]\n",
      " [ 29.2308  41.3462]\n",
      " [ 25.641   50.5769]\n",
      " [ 20.2564  60.1923]\n",
      " [ 23.0769  52.8846]\n",
      " [ 97.1795  75.5769]\n",
      " [ 93.5897  87.1154]\n",
      " [ 35.8974  47.8846]\n",
      " [ 64.359   30.9615]\n",
      " [ 23.8462  60.1923]\n",
      " [ 67.9487  44.0385]\n",
      " [ 85.641   79.4231]\n",
      " [ 72.5641  45.5769]\n",
      " [ 82.5641  62.5   ]\n",
      " [ 37.4359  67.8846]]\n"
     ]
    }
   ],
   "source": [
    "print(data)"
   ]
  },
  {
   "cell_type": "code",
   "execution_count": 11,
   "id": "a629da8f",
   "metadata": {},
   "outputs": [],
   "source": [
    "X = data[:,0]   # First column\n",
    "Y = data[:,1]   # Second Column"
   ]
  },
  {
   "cell_type": "code",
   "execution_count": 16,
   "id": "a192cc22",
   "metadata": {},
   "outputs": [
    {
     "name": "stdout",
     "output_type": "stream",
     "text": [
      "[84.359  72.8205 96.4103  7.1795 10.2564  5.8974 76.4103 75.641  73.3333\n",
      " 21.5385 38.9744 18.9744 16.9231 85.3846  9.2308 34.359  89.7436 10.5128\n",
      " 15.8974 80.2564 85.641   7.4359 30.2564 76.4103  6.6667 19.4872 31.7949\n",
      " 93.3333 15.3846 73.0769 82.3077 13.0769 12.5641 55.8974 91.2821 34.8718\n",
      " 24.1026 11.7949 79.7436 68.7179 90.2564 12.8205 38.4615 16.4103 87.4359\n",
      " 11.5385 98.4615 33.0769 26.4103  5.641   9.2308 91.2821 38.9744 83.8462\n",
      " 84.6154 68.7179 12.3077 28.7179 27.4359 75.8974 12.3077 89.7436 20.2564\n",
      " 18.9744 83.5897 50.7692 97.9487 22.8205 68.2051 16.9231 21.7949 30.7692\n",
      " 16.9231 54.8718 85.3846 78.2051 39.7436 92.3077 42.3077 78.2051 91.2821\n",
      " 20.     36.9231 74.359  67.6923 10.7692 84.1026 75.8974 93.8462 73.8462\n",
      "  7.1795 87.1795 60.5128  3.5897 14.359  65.8974 70.     80.2564 24.8718\n",
      " 35.641  64.1026 60.7692 84.6154 17.6923 21.2821 64.6154 30.5128 70.2564\n",
      " 27.1795 82.0513 26.4103  8.4615 52.0513 36.4103 22.3077 17.9487 44.8718\n",
      " 29.7436 27.6923 63.5897 67.4359 14.6154 72.8205 28.4615 66.6667 61.0256\n",
      "  4.8718  4.6154 22.0513 78.4615 88.2051 32.8205 97.6923 79.4872 87.9487\n",
      "  2.5641 29.2308 25.641  20.2564 23.0769 97.1795 93.5897 35.8974 64.359\n",
      " 23.8462 67.9487 85.641  72.5641 82.5641 37.4359]\n"
     ]
    }
   ],
   "source": [
    "print(X)"
   ]
  },
  {
   "cell_type": "code",
   "execution_count": 19,
   "id": "1066e330",
   "metadata": {},
   "outputs": [],
   "source": [
    "X = X.reshape(-1,1)"
   ]
  },
  {
   "cell_type": "code",
   "execution_count": 21,
   "id": "c97f3e16",
   "metadata": {},
   "outputs": [
    {
     "data": {
      "text/plain": [
       "<matplotlib.collections.PathCollection at 0x1a433c165c8>"
      ]
     },
     "execution_count": 21,
     "metadata": {},
     "output_type": "execute_result"
    },
    {
     "data": {
      "image/png": "[encoded data removed]",
      "text/plain": [
       "<Figure size 432x288 with 1 Axes>"
      ]
     },
     "metadata": {
      "needs_background": "light"
     },
     "output_type": "display_data"
    }
   ],
   "source": [
    "plt.scatter (X, Y)"
   ]
  },
  {
   "cell_type": "code",
   "execution_count": 22,
   "id": "4440e852",
   "metadata": {},
   "outputs": [],
   "source": [
    "myReg = linear_model.LinearRegression()"
   ]
  },
  {
   "cell_type": "markdown",
   "id": "62f6dfd9",
   "metadata": {},
   "source": [
    "## We want to estimate the value of Y from the value of X...\n",
    "## It is a regression problem !"
   ]
  },
  {
   "cell_type": "code",
   "execution_count": 23,
   "id": "cdcea071",
   "metadata": {},
   "outputs": [],
   "source": [
    "reg = linear_model.LinearRegression()"
   ]
  },
  {
   "cell_type": "code",
   "execution_count": 24,
   "id": "2b78143b",
   "metadata": {},
   "outputs": [
    {
     "data": {
      "text/plain": [
       "LinearRegression()"
      ]
     },
     "execution_count": 24,
     "metadata": {},
     "output_type": "execute_result"
    }
   ],
   "source": [
    "reg.fit(X,Y)"
   ]
  },
  {
   "cell_type": "code",
   "execution_count": 25,
   "id": "91f0b823",
   "metadata": {},
   "outputs": [],
   "source": [
    "Y_predicted = reg.predict(X)"
   ]
  },
  {
   "cell_type": "code",
   "execution_count": 28,
   "id": "f1140dc2",
   "metadata": {},
   "outputs": [
    {
     "data": {
      "text/plain": [
       "<matplotlib.collections.PathCollection at 0x1a434e0f648>"
      ]
     },
     "execution_count": 28,
     "metadata": {},
     "output_type": "execute_result"
    },
    {
     "data": {
      "image/png": "[encoded data removed]",
      "text/plain": [
       "<Figure size 432x288 with 1 Axes>"
      ]
     },
     "metadata": {
      "needs_background": "light"
     },
     "output_type": "display_data"
    }
   ],
   "source": [
    "plt.scatter (X, Y_predicted)\n",
    "plt.scatter (X, Y)"
   ]
  },
  {
   "cell_type": "code",
   "execution_count": 32,
   "id": "fd7e28c6",
   "metadata": {},
   "outputs": [
    {
     "data": {
      "text/plain": [
       "array([54.75529835, 59.95926396])"
      ]
     },
     "execution_count": 32,
     "metadata": {},
     "output_type": "execute_result"
    }
   ],
   "source": [
    "reg.predict([[150],[50]])"
   ]
  },
  {
   "cell_type": "markdown",
   "id": "fa3c1cae",
   "metadata": {},
   "source": [
    "## What about polynomial regression ? Let say 2nd Degree "
   ]
  },
  {
   "cell_type": "code",
   "execution_count": 33,
   "id": "a4403595",
   "metadata": {},
   "outputs": [
    {
     "data": {
      "text/plain": [
       "Pipeline(steps=[('polynomialfeatures', PolynomialFeatures()),\n",
       "                ('ridge', Ridge())])"
      ]
     },
     "execution_count": 33,
     "metadata": {},
     "output_type": "execute_result"
    }
   ],
   "source": [
    "from sklearn.preprocessing import PolynomialFeatures\n",
    "from sklearn.pipeline import make_pipeline\n",
    "from sklearn.linear_model import Ridge\n",
    "\n",
    "poly =  make_pipeline(PolynomialFeatures(degree=2), Ridge())\n",
    "\n",
    "poly.fit(X, Y)"
   ]
  },
  {
   "cell_type": "code",
   "execution_count": 34,
   "id": "98d62a0e",
   "metadata": {},
   "outputs": [
    {
     "data": {
      "text/plain": [
       "array([247.98385251,  40.00563744])"
      ]
     },
     "execution_count": 34,
     "metadata": {},
     "output_type": "execute_result"
    }
   ],
   "source": [
    "poly.predict([[150],[50]])"
   ]
  },
  {
   "cell_type": "code",
   "execution_count": 35,
   "id": "3c7c9e69",
   "metadata": {},
   "outputs": [],
   "source": [
    "Y_predicted_poly = poly.predict(X)"
   ]
  },
  {
   "cell_type": "code",
   "execution_count": 37,
   "id": "a8f37437",
   "metadata": {},
   "outputs": [
    {
     "data": {
      "text/plain": [
       "<matplotlib.collections.PathCollection at 0x1a435345748>"
      ]
     },
     "execution_count": 37,
     "metadata": {},
     "output_type": "execute_result"
    },
    {
     "data": {
      "image/png": "[encoded data removed]",
      "text/plain": [
       "<Figure size 432x288 with 1 Axes>"
      ]
     },
     "metadata": {
      "needs_background": "light"
     },
     "output_type": "display_data"
    }
   ],
   "source": [
    "plt.scatter (X, Y)\n",
    "plt.scatter (X, Y_predicted_poly)\n"
   ]
  },
  {
   "cell_type": "code",
   "execution_count": null,
   "id": "7ac1db8a",
   "metadata": {},
   "outputs": [],
   "source": []
  }
 ],
 "metadata": {
  "kernelspec": {
   "display_name": "Python 3",
   "language": "python",
   "name": "python3"
  },
  "language_info": {
   "codemirror_mode": {
    "name": "ipython",
    "version": 3
   },
   "file_extension": ".py",
   "mimetype": "text/x-python",
   "name": "python",
   "nbconvert_exporter": "python",
   "pygments_lexer": "ipython3",
   "version": "3.8.8"
  }
 },
 "nbformat": 4,
 "nbformat_minor": 5
}
